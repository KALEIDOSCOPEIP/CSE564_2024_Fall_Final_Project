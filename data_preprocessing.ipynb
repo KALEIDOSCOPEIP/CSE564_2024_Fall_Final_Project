{
 "cells": [
  {
   "cell_type": "markdown",
   "id": "1c6d0426",
   "metadata": {},
   "source": [
    "#### 1.1 Reorganize all csv files."
   ]
  },
  {
   "cell_type": "code",
   "execution_count": 10,
   "id": "b3505970",
   "metadata": {},
   "outputs": [
    {
     "name": "stdout",
     "output_type": "stream",
     "text": [
      "['.\\\\Data\\\\城市_20250101-20250329']\n"
     ]
    },
    {
     "name": "stderr",
     "output_type": "stream",
     "text": [
      "100%|██████████| 1/1 [00:00<00:00, 142.03it/s]\n"
     ]
    }
   ],
   "source": [
    "import os\n",
    "import shutil\n",
    "from glob import glob  \n",
    "from tqdm import tqdm\n",
    "from pathlib import Path\n",
    "\n",
    "data_root = r\".\\Data\"\n",
    "directories = glob(os.path.join(data_root, r'城市*'))\n",
    "print(directories)\n",
    "for directory in tqdm(directories):\n",
    "    if os.path.exists(os.path.join(directory, Path(directory).name)):\n",
    "        inner_directory = os.path.join(directory, Path(directory).name)\n",
    "        xmls = glob(os.path.join(inner_directory, '*.csv'))\n",
    "        for xml in xmls:\n",
    "            shutil.move(xml, \n",
    "                        os.path.join(directory, Path(xml).name.replace(\"china_cities_\", \"\")))\n",
    "        os.remove(inner_directory)\n",
    "    else:\n",
    "        xmls = glob(os.path.join(directory, '*.csv'))\n",
    "        for xml in xmls:\n",
    "            os.rename(xml, xml.replace(\"china_cities_\", \"\"))\n",
    "    os.rename(directory, os.path.join(Path(directory).parent, Path(directory).name[3:7]))"
   ]
  },
  {
   "cell_type": "markdown",
   "id": "1aca872e",
   "metadata": {},
   "source": [
    "#### 1.2 Get a directory tree."
   ]
  },
  {
   "cell_type": "code",
   "execution_count": null,
   "id": "33608949",
   "metadata": {},
   "outputs": [],
   "source": [
    "from rich.tree import Tree\n",
    "from rich import print\n",
    "import os\n",
    "\n",
    "def build_tree(path, tree):\n",
    "    for item in sorted(os.listdir(path)):\n",
    "        full_path = os.path.join(path, item)\n",
    "        if os.path.isdir(full_path):\n",
    "            branch = tree.add(f\"[bold blue]{item}/\")\n",
    "            build_tree(full_path, branch)\n",
    "        else:\n",
    "            tree.add(item)\n",
    "\n",
    "root_path = r\".\\Data\"\n",
    "tree = Tree(f\"[bold green]{os.path.basename(root_path)}/\")\n",
    "build_tree(root_path, tree)\n",
    "print(tree)"
   ]
  },
  {
   "cell_type": "markdown",
   "id": "4220dd39",
   "metadata": {},
   "source": [
    "#### 1.3 Process all csv (columns change to rows)"
   ]
  },
  {
   "cell_type": "code",
   "execution_count": 14,
   "id": "76514a93",
   "metadata": {},
   "outputs": [
    {
     "name": "stderr",
     "output_type": "stream",
     "text": [
      "100%|██████████| 3958/3958 [07:37<00:00,  8.64it/s]"
     ]
    },
    {
     "name": "stdout",
     "output_type": "stream",
     "text": [
      "✅ 转换成功，保存为：Data/2016/20160810_long.csv\n"
     ]
    },
    {
     "name": "stderr",
     "output_type": "stream",
     "text": [
      "\n"
     ]
    }
   ],
   "source": [
    "import pandas as pd\n",
    "from glob import glob\n",
    "from pathlib import Path\n",
    "from tqdm import tqdm\n",
    "\n",
    "# 设置你的输入文件路径和输出路径\n",
    "input_dir_root = \"./Data\"\n",
    "csvs = glob(os.path.join(input_dir_root, '*/*.csv'))\n",
    "# output_csv_path = \"./20140514_long.csv\"\n",
    "\n",
    "for csv in tqdm(csvs):\n",
    "    output_csv_path = os.path.join(Path(csv).parent, f\"{Path(csv).stem}_long.csv\")\n",
    "\n",
    "    # 读取原始宽格式 CSV 数据\n",
    "    df = pd.read_csv(csv)\n",
    "\n",
    "    # 将从第4列（索引为3）开始的所有列名作为城市列\n",
    "    city_columns = df.columns[3:]\n",
    "\n",
    "    # 使用 pd.melt 进行宽转长\n",
    "    long_df = pd.melt(\n",
    "        df,\n",
    "        id_vars=[\"date\", \"hour\", \"type\"],\n",
    "        value_vars=city_columns,\n",
    "        var_name=\"city\",\n",
    "        value_name=\"value\"\n",
    "    )\n",
    "\n",
    "    # === 去除 value 为 NaN 的行 ===\n",
    "    long_df = long_df.dropna(subset=[\"value\"])\n",
    "\n",
    "    # 保存为新的长格式 CSV 文件\n",
    "    long_df.to_csv(output_csv_path, index=False, encoding=\"utf-8\")\n",
    "\n",
    "print(f\"✅ 转换成功，保存为：{output_csv_path}\")\n"
   ]
  },
  {
   "cell_type": "markdown",
   "id": "ed81f64a",
   "metadata": {},
   "source": [
    "#### 1.4 Add auxiliary csv"
   ]
  },
  {
   "cell_type": "code",
   "execution_count": null,
   "id": "f5b9d38e",
   "metadata": {},
   "outputs": [
    {
     "name": "stderr",
     "output_type": "stream",
     "text": [
      "100%|██████████| 3958/3958 [02:40<00:00, 24.67it/s]\n"
     ]
    }
   ],
   "source": [
    "import os\n",
    "import pandas as pd\n",
    "import json\n",
    "from glob import glob\n",
    "from tqdm import tqdm\n",
    "from pathlib import Path\n",
    "\n",
    "# 设置你的输入文件路径和输出路径\n",
    "input_dir_root = \"./Data\"\n",
    "csvs = glob(os.path.join(input_dir_root, '*/*long.csv'))\n",
    "\n",
    "valid_dates = dict()\n",
    "valid_cities = dict()\n",
    "\n",
    "for csv in tqdm(csvs):\n",
    "    date = Path(csv).stem.strip('_long')\n",
    "    valid_dates[date] = list()\n",
    "    \n",
    "    df = pd.read_csv(csv)\n",
    "    cities = set(df['city'])\n",
    "    for city in cities:\n",
    "        valid_cities[city] = date\n",
    "    \n",
    "    valid_dates[date].append(list(cities))\n",
    "\n",
    "with open('./dates_to_cities_index.json', 'w+') as f:\n",
    "    json.dump(valid_dates, f, ensure_ascii=False, indent=4)\n",
    "with open('./cities_to_dates_index.json', 'w+') as f:\n",
    "    json.dump(valid_cities, f, ensure_ascii=False, indent=4)"
   ]
  },
  {
   "cell_type": "markdown",
   "id": "a17e188c",
   "metadata": {},
   "source": [
    "#### 2.1 Due to large amount of data, we average the air quality metrics from each hour in one day to only one value."
   ]
  },
  {
   "cell_type": "code",
   "execution_count": 4,
   "id": "468afc7a",
   "metadata": {},
   "outputs": [
    {
     "name": "stderr",
     "output_type": "stream",
     "text": [
      "100%|██████████| 3958/3958 [07:56<00:00,  8.31it/s]"
     ]
    },
    {
     "name": "stdout",
     "output_type": "stream",
     "text": [
      "处理完成\n"
     ]
    },
    {
     "name": "stderr",
     "output_type": "stream",
     "text": [
      "\n"
     ]
    }
   ],
   "source": [
    "import pandas as pd\n",
    "import os\n",
    "from glob import glob\n",
    "from tqdm import tqdm\n",
    "\n",
    "data_root = r\".\\Data\"\n",
    "csvs = glob(os.path.join(data_root, '*/*.csv'))\n",
    "for csv in tqdm(csvs):\n",
    "\n",
    "    # 读取原始 CSV 文件\n",
    "    df = pd.read_csv(csv)\n",
    "\n",
    "    # 只保留我们感兴趣的 type\n",
    "    target_types = ['AQI', 'PM2.5', 'PM10', 'SO2', 'NO2', 'O3', 'CO']\n",
    "    df = df[df['type'].isin(target_types)]\n",
    "\n",
    "    # 计算每个城市、每种污染物的当天平均值\n",
    "    avg_df = df.groupby(['city', 'type'])['value'].mean().reset_index()\n",
    "    avg_df['value'] = avg_df['value'].round(2)\n",
    "\n",
    "    # 保存为新的 CSV 文件\n",
    "    avg_df.to_csv(csv, index=False)\n",
    "\n",
    "print(\"处理完成\")\n"
   ]
  },
  {
   "cell_type": "markdown",
   "id": "4ea5b5af",
   "metadata": {},
   "source": [
    "#### 2.2 Average again on months."
   ]
  },
  {
   "cell_type": "code",
   "execution_count": 10,
   "id": "bddd2835",
   "metadata": {},
   "outputs": [
    {
     "name": "stdout",
     "output_type": "stream",
     "text": [
      "保存 Data\\2014\\2014_05.csv 完成，共处理 19 个文件\n",
      "保存 Data\\2014\\2014_06.csv 完成，共处理 30 个文件\n",
      "保存 Data\\2014\\2014_07.csv 完成，共处理 22 个文件\n",
      "保存 Data\\2014\\2014_08.csv 完成，共处理 31 个文件\n",
      "保存 Data\\2014\\2014_09.csv 完成，共处理 30 个文件\n",
      "保存 Data\\2014\\2014_10.csv 完成，共处理 31 个文件\n",
      "保存 Data\\2014\\2014_11.csv 完成，共处理 30 个文件\n",
      "保存 Data\\2014\\2014_12.csv 完成，共处理 31 个文件\n"
     ]
    }
   ],
   "source": [
    "import pandas as pd\n",
    "import os\n",
    "import glob\n",
    "\n",
    "def process_monthly_avg(data_root='Data', year='2015'):\n",
    "    year_path = os.path.join(data_root, year)\n",
    "    months = {f'{m:02d}': [] for m in range(1, 13)}\n",
    "\n",
    "    # 找出所有 *_summary.csv 文件\n",
    "    all_files = glob.glob(os.path.join(year_path, '*.csv'))\n",
    "\n",
    "    # 将文件按月份分类\n",
    "    for file in all_files:\n",
    "        basename = os.path.basename(file)\n",
    "        if len(basename) == 12:  # e.g., 20150101_summary.csv\n",
    "            month = basename[4:6]\n",
    "            if month in months:\n",
    "                months[month].append(file)\n",
    "\n",
    "    # 遍历每个月的文件进行聚合\n",
    "    for month, file_list in months.items():\n",
    "        if not file_list:\n",
    "            continue  # 当前月份无文件，跳过\n",
    "\n",
    "        monthly_df = pd.concat([pd.read_csv(f) for f in file_list])\n",
    "        monthly_avg = monthly_df.groupby(['city', 'type'])['value'].mean().reset_index()\n",
    "        monthly_avg['value'] = monthly_avg['value'].round(2)  # 保留两位小数\n",
    "\n",
    "        # 输出文件保存\n",
    "        output_file = os.path.join(year_path, f'{year}_{month}.csv')\n",
    "        monthly_avg.to_csv(output_file, index=False)\n",
    "        print(f'保存 {output_file} 完成，共处理 {len(file_list)} 个文件')\n",
    "\n",
    "# 运行示例：处理2015年数据\n",
    "years = ['2014', ]\n",
    "# '2015', '2016', '2017', '2018', '2019', '2020', '2021', '2022', '2023', '2024', '2025']\n",
    "for year in years:\n",
    "    process_monthly_avg(data_root='Data', year=year)\n"
   ]
  },
  {
   "cell_type": "markdown",
   "id": "717dd177",
   "metadata": {},
   "source": [
    "#### 2.3 Merge months data into one file for each year."
   ]
  },
  {
   "cell_type": "code",
   "execution_count": 13,
   "id": "80676543",
   "metadata": {},
   "outputs": [
    {
     "name": "stdout",
     "output_type": "stream",
     "text": [
      "保存合并结果至：Data\\2015\\2015_all.csv\n",
      "保存合并结果至：Data\\2016\\2016_all.csv\n",
      "保存合并结果至：Data\\2017\\2017_all.csv\n",
      "保存合并结果至：Data\\2018\\2018_all.csv\n",
      "保存合并结果至：Data\\2019\\2019_all.csv\n",
      "保存合并结果至：Data\\2020\\2020_all.csv\n",
      "保存合并结果至：Data\\2021\\2021_all.csv\n",
      "保存合并结果至：Data\\2022\\2022_all.csv\n",
      "保存合并结果至：Data\\2023\\2023_all.csv\n",
      "保存合并结果至：Data\\2024\\2024_all.csv\n",
      "保存合并结果至：Data\\2025\\2025_all.csv\n"
     ]
    }
   ],
   "source": [
    "import pandas as pd\n",
    "import os\n",
    "import glob\n",
    "\n",
    "def merge_yearly_monthly_averages(data_root='Data', year='2014'):\n",
    "    year_path = os.path.join(data_root, year)\n",
    "    pattern = os.path.join(year_path, f'{year}_*.csv')\n",
    "    files = sorted(glob.glob(pattern))\n",
    "\n",
    "    all_data = []\n",
    "\n",
    "    for file in files:\n",
    "        df = pd.read_csv(file)\n",
    "        # 提取月份（例如从 2014_05_monthly_avg.csv 提取 \"201405\"）\n",
    "        filename = os.path.basename(file)\n",
    "        month_str = filename.split('_')[1]\n",
    "        df.insert(1, 'month', f'{year}{month_str}')\n",
    "        all_data.append(df)\n",
    "\n",
    "    if all_data:\n",
    "        combined_df = pd.concat(all_data, ignore_index=True)\n",
    "        output_file = os.path.join(year_path, f'{year}_all.csv')\n",
    "        combined_df.to_csv(output_file, index=False)\n",
    "        print(f'保存合并结果至：{output_file}')\n",
    "    else:\n",
    "        print(f'未在 {year_path} 找到任何月平均文件')\n",
    "\n",
    "# 示例调用\n",
    "years = ['2015', '2016', '2017', '2018', '2019', '2020', '2021', '2022', '2023', '2024', '2025']\n",
    "for year in years:\n",
    "    merge_yearly_monthly_averages(data_root='Data', year=year)\n"
   ]
  },
  {
   "cell_type": "markdown",
   "id": "26736a9f",
   "metadata": {},
   "source": [
    "#### 2.3 Merge all annual files into one."
   ]
  },
  {
   "cell_type": "code",
   "execution_count": 15,
   "id": "648b9898",
   "metadata": {},
   "outputs": [
    {
     "name": "stdout",
     "output_type": "stream",
     "text": [
      "整合完成，保存为：./Data/all_data.csv\n"
     ]
    }
   ],
   "source": [
    "import pandas as pd\n",
    "import os\n",
    "import glob\n",
    "\n",
    "def merge_all_years(data_root='Data', output_file='all_data.csv'):\n",
    "    pattern = os.path.join(data_root, '*/*_all.csv')\n",
    "    files = sorted(glob.glob(pattern))\n",
    "\n",
    "    all_data = []\n",
    "\n",
    "    for file in files:\n",
    "        df = pd.read_csv(file)\n",
    "        # 重命名 'month' 列为 'date'\n",
    "        df.rename(columns={'month': 'date'}, inplace=True)\n",
    "        all_data.append(df)\n",
    "\n",
    "    if all_data:\n",
    "        combined_df = pd.concat(all_data, ignore_index=True)\n",
    "        combined_df.to_csv(output_file, index=False)\n",
    "        print(f'整合完成，保存为：{output_file}')\n",
    "    else:\n",
    "        print(f'未在 {data_root} 中找到 *_all_months.csv 文件')\n",
    "\n",
    "# 示例调用\n",
    "merge_all_years(data_root='Data', output_file='./Data/all_data.csv')\n"
   ]
  },
  {
   "cell_type": "markdown",
   "id": "da2ef4da",
   "metadata": {},
   "source": [
    "#### 3. Translate all Chinese into English"
   ]
  },
  {
   "cell_type": "code",
   "execution_count": null,
   "id": "8ae79d35",
   "metadata": {},
   "outputs": [
    {
     "name": "stderr",
     "output_type": "stream",
     "text": [
      "c:\\Anaconda\\Lib\\asyncio\\tasks.py:132: RuntimeWarning: coroutine 'translate_column' was never awaited\n",
      "  self._context = contextvars.copy_context()\n",
      "RuntimeWarning: Enable tracemalloc to get the object allocation traceback\n"
     ]
    },
    {
     "ename": "KeyboardInterrupt",
     "evalue": "",
     "output_type": "error",
     "traceback": [
      "\u001b[1;31m---------------------------------------------------------------------------\u001b[0m",
      "\u001b[1;31mKeyboardInterrupt\u001b[0m                         Traceback (most recent call last)",
      "File \u001b[1;32mc:\\Anaconda\\Lib\\site-packages\\nest_asyncio.py:30\u001b[0m, in \u001b[0;36m_patch_asyncio.<locals>.run\u001b[1;34m(main, debug)\u001b[0m\n\u001b[0;32m     29\u001b[0m \u001b[38;5;28;01mtry\u001b[39;00m:\n\u001b[1;32m---> 30\u001b[0m     \u001b[38;5;28;01mreturn\u001b[39;00m \u001b[43mloop\u001b[49m\u001b[38;5;241;43m.\u001b[39;49m\u001b[43mrun_until_complete\u001b[49m\u001b[43m(\u001b[49m\u001b[43mtask\u001b[49m\u001b[43m)\u001b[49m\n\u001b[0;32m     31\u001b[0m \u001b[38;5;28;01mfinally\u001b[39;00m:\n",
      "File \u001b[1;32mc:\\Anaconda\\Lib\\site-packages\\nest_asyncio.py:92\u001b[0m, in \u001b[0;36m_patch_loop.<locals>.run_until_complete\u001b[1;34m(self, future)\u001b[0m\n\u001b[0;32m     91\u001b[0m \u001b[38;5;28;01mwhile\u001b[39;00m \u001b[38;5;129;01mnot\u001b[39;00m f\u001b[38;5;241m.\u001b[39mdone():\n\u001b[1;32m---> 92\u001b[0m     \u001b[38;5;28;43mself\u001b[39;49m\u001b[38;5;241;43m.\u001b[39;49m\u001b[43m_run_once\u001b[49m\u001b[43m(\u001b[49m\u001b[43m)\u001b[49m\n\u001b[0;32m     93\u001b[0m     \u001b[38;5;28;01mif\u001b[39;00m \u001b[38;5;28mself\u001b[39m\u001b[38;5;241m.\u001b[39m_stopping:\n",
      "File \u001b[1;32mc:\\Anaconda\\Lib\\site-packages\\nest_asyncio.py:133\u001b[0m, in \u001b[0;36m_patch_loop.<locals>._run_once\u001b[1;34m(self)\u001b[0m\n\u001b[0;32m    132\u001b[0m \u001b[38;5;28;01mtry\u001b[39;00m:\n\u001b[1;32m--> 133\u001b[0m     \u001b[43mhandle\u001b[49m\u001b[38;5;241;43m.\u001b[39;49m\u001b[43m_run\u001b[49m\u001b[43m(\u001b[49m\u001b[43m)\u001b[49m\n\u001b[0;32m    134\u001b[0m \u001b[38;5;28;01mfinally\u001b[39;00m:\n\u001b[0;32m    135\u001b[0m     \u001b[38;5;66;03m# restore the current task\u001b[39;00m\n",
      "File \u001b[1;32mc:\\Anaconda\\Lib\\asyncio\\events.py:88\u001b[0m, in \u001b[0;36mHandle._run\u001b[1;34m(self)\u001b[0m\n\u001b[0;32m     87\u001b[0m \u001b[38;5;28;01mtry\u001b[39;00m:\n\u001b[1;32m---> 88\u001b[0m     \u001b[38;5;28;43mself\u001b[39;49m\u001b[38;5;241;43m.\u001b[39;49m\u001b[43m_context\u001b[49m\u001b[38;5;241;43m.\u001b[39;49m\u001b[43mrun\u001b[49m\u001b[43m(\u001b[49m\u001b[38;5;28;43mself\u001b[39;49m\u001b[38;5;241;43m.\u001b[39;49m\u001b[43m_callback\u001b[49m\u001b[43m,\u001b[49m\u001b[43m \u001b[49m\u001b[38;5;241;43m*\u001b[39;49m\u001b[38;5;28;43mself\u001b[39;49m\u001b[38;5;241;43m.\u001b[39;49m\u001b[43m_args\u001b[49m\u001b[43m)\u001b[49m\n\u001b[0;32m     89\u001b[0m \u001b[38;5;28;01mexcept\u001b[39;00m (\u001b[38;5;167;01mSystemExit\u001b[39;00m, \u001b[38;5;167;01mKeyboardInterrupt\u001b[39;00m):\n",
      "File \u001b[1;32mc:\\Anaconda\\Lib\\asyncio\\tasks.py:303\u001b[0m, in \u001b[0;36mTask.__step\u001b[1;34m(self, exc)\u001b[0m\n\u001b[0;32m    302\u001b[0m \u001b[38;5;28;01mtry\u001b[39;00m:\n\u001b[1;32m--> 303\u001b[0m     \u001b[38;5;28;43mself\u001b[39;49m\u001b[38;5;241;43m.\u001b[39;49m\u001b[43m__step_run_and_handle_result\u001b[49m\u001b[43m(\u001b[49m\u001b[43mexc\u001b[49m\u001b[43m)\u001b[49m\n\u001b[0;32m    304\u001b[0m \u001b[38;5;28;01mfinally\u001b[39;00m:\n",
      "File \u001b[1;32mc:\\Anaconda\\Lib\\asyncio\\tasks.py:314\u001b[0m, in \u001b[0;36mTask.__step_run_and_handle_result\u001b[1;34m(***failed resolving arguments***)\u001b[0m\n\u001b[0;32m    311\u001b[0m \u001b[38;5;28;01mif\u001b[39;00m exc \u001b[38;5;129;01mis\u001b[39;00m \u001b[38;5;28;01mNone\u001b[39;00m:\n\u001b[0;32m    312\u001b[0m     \u001b[38;5;66;03m# We use the `send` method directly, because coroutines\u001b[39;00m\n\u001b[0;32m    313\u001b[0m     \u001b[38;5;66;03m# don't have `__iter__` and `__next__` methods.\u001b[39;00m\n\u001b[1;32m--> 314\u001b[0m     result \u001b[38;5;241m=\u001b[39m \u001b[43mcoro\u001b[49m\u001b[38;5;241;43m.\u001b[39;49m\u001b[43msend\u001b[49m\u001b[43m(\u001b[49m\u001b[38;5;28;43;01mNone\u001b[39;49;00m\u001b[43m)\u001b[49m\n\u001b[0;32m    315\u001b[0m \u001b[38;5;28;01melse\u001b[39;00m:\n",
      "Cell \u001b[1;32mIn[6], line 18\u001b[0m, in \u001b[0;36mtranslate_text\u001b[1;34m(text, src, dest)\u001b[0m\n\u001b[0;32m     17\u001b[0m \u001b[38;5;28;01mtry\u001b[39;00m:\n\u001b[1;32m---> 18\u001b[0m     result \u001b[38;5;241m=\u001b[39m \u001b[38;5;28;01mawait\u001b[39;00m translator\u001b[38;5;241m.\u001b[39mtranslate(text, src\u001b[38;5;241m=\u001b[39msrc, dest\u001b[38;5;241m=\u001b[39mdest)\n\u001b[0;32m     19\u001b[0m     \u001b[38;5;28;01mreturn\u001b[39;00m result\u001b[38;5;241m.\u001b[39mtext\n",
      "File \u001b[1;32mc:\\Anaconda\\Lib\\site-packages\\googletrans\\client.py:286\u001b[0m, in \u001b[0;36mTranslator.translate\u001b[1;34m(self, text, dest, src, **kwargs)\u001b[0m\n\u001b[0;32m    285\u001b[0m origin \u001b[38;5;241m=\u001b[39m text\n\u001b[1;32m--> 286\u001b[0m data, response \u001b[38;5;241m=\u001b[39m \u001b[38;5;28;01mawait\u001b[39;00m \u001b[38;5;28mself\u001b[39m\u001b[38;5;241m.\u001b[39m_translate(text, dest, src, kwargs)\n\u001b[0;32m    288\u001b[0m \u001b[38;5;66;03m# this code will be updated when the format is changed.\u001b[39;00m\n",
      "File \u001b[1;32mc:\\Anaconda\\Lib\\site-packages\\googletrans\\client.py:128\u001b[0m, in \u001b[0;36mTranslator._translate\u001b[1;34m(self, text, dest, src, override)\u001b[0m\n\u001b[0;32m    127\u001b[0m url \u001b[38;5;241m=\u001b[39m urls\u001b[38;5;241m.\u001b[39mTRANSLATE\u001b[38;5;241m.\u001b[39mformat(host\u001b[38;5;241m=\u001b[39m\u001b[38;5;28mself\u001b[39m\u001b[38;5;241m.\u001b[39m_pick_service_url())\n\u001b[1;32m--> 128\u001b[0m r \u001b[38;5;241m=\u001b[39m \u001b[38;5;28;01mawait\u001b[39;00m \u001b[38;5;28mself\u001b[39m\u001b[38;5;241m.\u001b[39mclient\u001b[38;5;241m.\u001b[39mget(url, params\u001b[38;5;241m=\u001b[39mparams)\n\u001b[0;32m    130\u001b[0m \u001b[38;5;28;01mif\u001b[39;00m r\u001b[38;5;241m.\u001b[39mstatus_code \u001b[38;5;241m==\u001b[39m \u001b[38;5;241m200\u001b[39m:\n",
      "File \u001b[1;32mc:\\Anaconda\\Lib\\site-packages\\httpx\\_client.py:1814\u001b[0m, in \u001b[0;36mAsyncClient.get\u001b[1;34m(self, url, params, headers, cookies, auth, follow_redirects, timeout, extensions)\u001b[0m\n\u001b[0;32m   1809\u001b[0m \u001b[38;5;250m\u001b[39m\u001b[38;5;124;03m\"\"\"\u001b[39;00m\n\u001b[0;32m   1810\u001b[0m \u001b[38;5;124;03mSend a `GET` request.\u001b[39;00m\n\u001b[0;32m   1811\u001b[0m \n\u001b[0;32m   1812\u001b[0m \u001b[38;5;124;03m**Parameters**: See `httpx.request`.\u001b[39;00m\n\u001b[0;32m   1813\u001b[0m \u001b[38;5;124;03m\"\"\"\u001b[39;00m\n\u001b[1;32m-> 1814\u001b[0m \u001b[38;5;28;01mreturn\u001b[39;00m \u001b[38;5;28;01mawait\u001b[39;00m \u001b[38;5;28mself\u001b[39m\u001b[38;5;241m.\u001b[39mrequest(\n\u001b[0;32m   1815\u001b[0m     \u001b[38;5;124m\"\u001b[39m\u001b[38;5;124mGET\u001b[39m\u001b[38;5;124m\"\u001b[39m,\n\u001b[0;32m   1816\u001b[0m     url,\n\u001b[0;32m   1817\u001b[0m     params\u001b[38;5;241m=\u001b[39mparams,\n\u001b[0;32m   1818\u001b[0m     headers\u001b[38;5;241m=\u001b[39mheaders,\n\u001b[0;32m   1819\u001b[0m     cookies\u001b[38;5;241m=\u001b[39mcookies,\n\u001b[0;32m   1820\u001b[0m     auth\u001b[38;5;241m=\u001b[39mauth,\n\u001b[0;32m   1821\u001b[0m     follow_redirects\u001b[38;5;241m=\u001b[39mfollow_redirects,\n\u001b[0;32m   1822\u001b[0m     timeout\u001b[38;5;241m=\u001b[39mtimeout,\n\u001b[0;32m   1823\u001b[0m     extensions\u001b[38;5;241m=\u001b[39mextensions,\n\u001b[0;32m   1824\u001b[0m )\n",
      "File \u001b[1;32mc:\\Anaconda\\Lib\\site-packages\\httpx\\_client.py:1585\u001b[0m, in \u001b[0;36mAsyncClient.request\u001b[1;34m(self, method, url, content, data, files, json, params, headers, cookies, auth, follow_redirects, timeout, extensions)\u001b[0m\n\u001b[0;32m   1572\u001b[0m request \u001b[38;5;241m=\u001b[39m \u001b[38;5;28mself\u001b[39m\u001b[38;5;241m.\u001b[39mbuild_request(\n\u001b[0;32m   1573\u001b[0m     method\u001b[38;5;241m=\u001b[39mmethod,\n\u001b[0;32m   1574\u001b[0m     url\u001b[38;5;241m=\u001b[39murl,\n\u001b[1;32m   (...)\u001b[0m\n\u001b[0;32m   1583\u001b[0m     extensions\u001b[38;5;241m=\u001b[39mextensions,\n\u001b[0;32m   1584\u001b[0m )\n\u001b[1;32m-> 1585\u001b[0m \u001b[38;5;28;01mreturn\u001b[39;00m \u001b[38;5;28;01mawait\u001b[39;00m \u001b[38;5;28mself\u001b[39m\u001b[38;5;241m.\u001b[39msend(request, auth\u001b[38;5;241m=\u001b[39mauth, follow_redirects\u001b[38;5;241m=\u001b[39mfollow_redirects)\n",
      "File \u001b[1;32mc:\\Anaconda\\Lib\\site-packages\\httpx\\_client.py:1674\u001b[0m, in \u001b[0;36mAsyncClient.send\u001b[1;34m(self, request, stream, auth, follow_redirects)\u001b[0m\n\u001b[0;32m   1672\u001b[0m auth \u001b[38;5;241m=\u001b[39m \u001b[38;5;28mself\u001b[39m\u001b[38;5;241m.\u001b[39m_build_request_auth(request, auth)\n\u001b[1;32m-> 1674\u001b[0m response \u001b[38;5;241m=\u001b[39m \u001b[38;5;28;01mawait\u001b[39;00m \u001b[38;5;28mself\u001b[39m\u001b[38;5;241m.\u001b[39m_send_handling_auth(\n\u001b[0;32m   1675\u001b[0m     request,\n\u001b[0;32m   1676\u001b[0m     auth\u001b[38;5;241m=\u001b[39mauth,\n\u001b[0;32m   1677\u001b[0m     follow_redirects\u001b[38;5;241m=\u001b[39mfollow_redirects,\n\u001b[0;32m   1678\u001b[0m     history\u001b[38;5;241m=\u001b[39m[],\n\u001b[0;32m   1679\u001b[0m )\n\u001b[0;32m   1680\u001b[0m \u001b[38;5;28;01mtry\u001b[39;00m:\n",
      "File \u001b[1;32mc:\\Anaconda\\Lib\\site-packages\\httpx\\_client.py:1702\u001b[0m, in \u001b[0;36mAsyncClient._send_handling_auth\u001b[1;34m(self, request, auth, follow_redirects, history)\u001b[0m\n\u001b[0;32m   1701\u001b[0m \u001b[38;5;28;01mwhile\u001b[39;00m \u001b[38;5;28;01mTrue\u001b[39;00m:\n\u001b[1;32m-> 1702\u001b[0m     response \u001b[38;5;241m=\u001b[39m \u001b[38;5;28;01mawait\u001b[39;00m \u001b[38;5;28mself\u001b[39m\u001b[38;5;241m.\u001b[39m_send_handling_redirects(\n\u001b[0;32m   1703\u001b[0m         request,\n\u001b[0;32m   1704\u001b[0m         follow_redirects\u001b[38;5;241m=\u001b[39mfollow_redirects,\n\u001b[0;32m   1705\u001b[0m         history\u001b[38;5;241m=\u001b[39mhistory,\n\u001b[0;32m   1706\u001b[0m     )\n\u001b[0;32m   1707\u001b[0m     \u001b[38;5;28;01mtry\u001b[39;00m:\n",
      "File \u001b[1;32mc:\\Anaconda\\Lib\\site-packages\\httpx\\_client.py:1739\u001b[0m, in \u001b[0;36mAsyncClient._send_handling_redirects\u001b[1;34m(self, request, follow_redirects, history)\u001b[0m\n\u001b[0;32m   1737\u001b[0m     \u001b[38;5;28;01mawait\u001b[39;00m hook(request)\n\u001b[1;32m-> 1739\u001b[0m response \u001b[38;5;241m=\u001b[39m \u001b[38;5;28;01mawait\u001b[39;00m \u001b[38;5;28mself\u001b[39m\u001b[38;5;241m.\u001b[39m_send_single_request(request)\n\u001b[0;32m   1740\u001b[0m \u001b[38;5;28;01mtry\u001b[39;00m:\n",
      "File \u001b[1;32mc:\\Anaconda\\Lib\\site-packages\\httpx\\_client.py:1776\u001b[0m, in \u001b[0;36mAsyncClient._send_single_request\u001b[1;34m(self, request)\u001b[0m\n\u001b[0;32m   1775\u001b[0m \u001b[38;5;28;01mwith\u001b[39;00m request_context(request\u001b[38;5;241m=\u001b[39mrequest):\n\u001b[1;32m-> 1776\u001b[0m     response \u001b[38;5;241m=\u001b[39m \u001b[38;5;28;01mawait\u001b[39;00m transport\u001b[38;5;241m.\u001b[39mhandle_async_request(request)\n\u001b[0;32m   1778\u001b[0m \u001b[38;5;28;01massert\u001b[39;00m \u001b[38;5;28misinstance\u001b[39m(response\u001b[38;5;241m.\u001b[39mstream, AsyncByteStream)\n",
      "File \u001b[1;32mc:\\Anaconda\\Lib\\site-packages\\httpx\\_transports\\default.py:377\u001b[0m, in \u001b[0;36mAsyncHTTPTransport.handle_async_request\u001b[1;34m(self, request)\u001b[0m\n\u001b[0;32m    376\u001b[0m \u001b[38;5;28;01mwith\u001b[39;00m map_httpcore_exceptions():\n\u001b[1;32m--> 377\u001b[0m     resp \u001b[38;5;241m=\u001b[39m \u001b[38;5;28;01mawait\u001b[39;00m \u001b[38;5;28mself\u001b[39m\u001b[38;5;241m.\u001b[39m_pool\u001b[38;5;241m.\u001b[39mhandle_async_request(req)\n\u001b[0;32m    379\u001b[0m \u001b[38;5;28;01massert\u001b[39;00m \u001b[38;5;28misinstance\u001b[39m(resp\u001b[38;5;241m.\u001b[39mstream, typing\u001b[38;5;241m.\u001b[39mAsyncIterable)\n",
      "File \u001b[1;32mc:\\Anaconda\\Lib\\site-packages\\httpcore\\_async\\connection_pool.py:216\u001b[0m, in \u001b[0;36mAsyncConnectionPool.handle_async_request\u001b[1;34m(self, request)\u001b[0m\n\u001b[0;32m    215\u001b[0m     \u001b[38;5;28;01mawait\u001b[39;00m \u001b[38;5;28mself\u001b[39m\u001b[38;5;241m.\u001b[39m_close_connections(closing)\n\u001b[1;32m--> 216\u001b[0m     \u001b[38;5;28;01mraise\u001b[39;00m exc \u001b[38;5;28;01mfrom\u001b[39;00m \u001b[38;5;28;01mNone\u001b[39;00m\n\u001b[0;32m    218\u001b[0m \u001b[38;5;66;03m# Return the response. Note that in this case we still have to manage\u001b[39;00m\n\u001b[0;32m    219\u001b[0m \u001b[38;5;66;03m# the point at which the response is closed.\u001b[39;00m\n",
      "File \u001b[1;32mc:\\Anaconda\\Lib\\site-packages\\httpcore\\_async\\connection_pool.py:188\u001b[0m, in \u001b[0;36mAsyncConnectionPool.handle_async_request\u001b[1;34m(self, request)\u001b[0m\n\u001b[0;32m    185\u001b[0m \u001b[38;5;28;01mwith\u001b[39;00m \u001b[38;5;28mself\u001b[39m\u001b[38;5;241m.\u001b[39m_optional_thread_lock:\n\u001b[0;32m    186\u001b[0m     \u001b[38;5;66;03m# Assign incoming requests to available connections,\u001b[39;00m\n\u001b[0;32m    187\u001b[0m     \u001b[38;5;66;03m# closing or creating new connections as required.\u001b[39;00m\n\u001b[1;32m--> 188\u001b[0m     closing \u001b[38;5;241m=\u001b[39m \u001b[38;5;28;43mself\u001b[39;49m\u001b[38;5;241;43m.\u001b[39;49m\u001b[43m_assign_requests_to_connections\u001b[49m\u001b[43m(\u001b[49m\u001b[43m)\u001b[49m\n\u001b[0;32m    189\u001b[0m \u001b[38;5;28;01mawait\u001b[39;00m \u001b[38;5;28mself\u001b[39m\u001b[38;5;241m.\u001b[39m_close_connections(closing)\n",
      "File \u001b[1;32mc:\\Anaconda\\Lib\\site-packages\\httpcore\\_async\\connection_pool.py:262\u001b[0m, in \u001b[0;36mAsyncConnectionPool._assign_requests_to_connections\u001b[1;34m(self)\u001b[0m\n\u001b[0;32m    261\u001b[0m \u001b[38;5;66;03m# Assign queued requests to connections.\u001b[39;00m\n\u001b[1;32m--> 262\u001b[0m queued_requests \u001b[38;5;241m=\u001b[39m [request \u001b[38;5;28;01mfor\u001b[39;00m request \u001b[38;5;129;01min\u001b[39;00m \u001b[38;5;28mself\u001b[39m\u001b[38;5;241m.\u001b[39m_requests \u001b[38;5;28;01mif\u001b[39;00m \u001b[43mrequest\u001b[49m\u001b[38;5;241;43m.\u001b[39;49m\u001b[43mis_queued\u001b[49m\u001b[43m(\u001b[49m\u001b[43m)\u001b[49m]\n\u001b[0;32m    263\u001b[0m \u001b[38;5;28;01mfor\u001b[39;00m pool_request \u001b[38;5;129;01min\u001b[39;00m queued_requests:\n",
      "File \u001b[1;32mc:\\Anaconda\\Lib\\site-packages\\httpcore\\_async\\connection_pool.py:39\u001b[0m, in \u001b[0;36mAsyncPoolRequest.is_queued\u001b[1;34m(self)\u001b[0m\n\u001b[0;32m     37\u001b[0m     \u001b[38;5;28;01mreturn\u001b[39;00m \u001b[38;5;28mself\u001b[39m\u001b[38;5;241m.\u001b[39mconnection\n\u001b[1;32m---> 39\u001b[0m \u001b[38;5;28;01mdef\u001b[39;00m \u001b[38;5;21mis_queued\u001b[39m(\u001b[38;5;28mself\u001b[39m) \u001b[38;5;241m-\u001b[39m\u001b[38;5;241m>\u001b[39m \u001b[38;5;28mbool\u001b[39m:\n\u001b[0;32m     40\u001b[0m     \u001b[38;5;28;01mreturn\u001b[39;00m \u001b[38;5;28mself\u001b[39m\u001b[38;5;241m.\u001b[39mconnection \u001b[38;5;129;01mis\u001b[39;00m \u001b[38;5;28;01mNone\u001b[39;00m\n",
      "\u001b[1;31mKeyboardInterrupt\u001b[0m: ",
      "\nDuring handling of the above exception, another exception occurred:\n",
      "\u001b[1;31mCancelledError\u001b[0m                            Traceback (most recent call last)",
      "File \u001b[1;32mc:\\Anaconda\\Lib\\site-packages\\httpcore\\_async\\connection_pool.py:196\u001b[0m, in \u001b[0;36mAsyncConnectionPool.handle_async_request\u001b[1;34m(self, request)\u001b[0m\n\u001b[0;32m    194\u001b[0m \u001b[38;5;28;01mtry\u001b[39;00m:\n\u001b[0;32m    195\u001b[0m     \u001b[38;5;66;03m# Send the request on the assigned connection.\u001b[39;00m\n\u001b[1;32m--> 196\u001b[0m     response \u001b[38;5;241m=\u001b[39m \u001b[38;5;28;01mawait\u001b[39;00m connection\u001b[38;5;241m.\u001b[39mhandle_async_request(\n\u001b[0;32m    197\u001b[0m         pool_request\u001b[38;5;241m.\u001b[39mrequest\n\u001b[0;32m    198\u001b[0m     )\n\u001b[0;32m    199\u001b[0m \u001b[38;5;28;01mexcept\u001b[39;00m ConnectionNotAvailable:\n\u001b[0;32m    200\u001b[0m     \u001b[38;5;66;03m# In some cases a connection may initially be available to\u001b[39;00m\n\u001b[0;32m    201\u001b[0m     \u001b[38;5;66;03m# handle a request, but then become unavailable.\u001b[39;00m\n\u001b[0;32m    202\u001b[0m     \u001b[38;5;66;03m#\u001b[39;00m\n\u001b[0;32m    203\u001b[0m     \u001b[38;5;66;03m# In this case we clear the connection and try again.\u001b[39;00m\n",
      "File \u001b[1;32mc:\\Anaconda\\Lib\\site-packages\\httpcore\\_async\\connection.py:99\u001b[0m, in \u001b[0;36mAsyncHTTPConnection.handle_async_request\u001b[1;34m(self, request)\u001b[0m\n\u001b[0;32m     98\u001b[0m     \u001b[38;5;28mself\u001b[39m\u001b[38;5;241m.\u001b[39m_connect_failed \u001b[38;5;241m=\u001b[39m \u001b[38;5;28;01mTrue\u001b[39;00m\n\u001b[1;32m---> 99\u001b[0m     \u001b[38;5;28;01mraise\u001b[39;00m exc\n\u001b[0;32m    101\u001b[0m \u001b[38;5;28;01mreturn\u001b[39;00m \u001b[38;5;28;01mawait\u001b[39;00m \u001b[38;5;28mself\u001b[39m\u001b[38;5;241m.\u001b[39m_connection\u001b[38;5;241m.\u001b[39mhandle_async_request(request)\n",
      "File \u001b[1;32mc:\\Anaconda\\Lib\\site-packages\\httpcore\\_async\\connection.py:74\u001b[0m, in \u001b[0;36mAsyncHTTPConnection.handle_async_request\u001b[1;34m(self, request)\u001b[0m\n\u001b[0;32m     73\u001b[0m \u001b[38;5;28;01mtry\u001b[39;00m:\n\u001b[1;32m---> 74\u001b[0m     \u001b[38;5;28;01masync\u001b[39;00m \u001b[38;5;28;01mwith\u001b[39;00m \u001b[38;5;28mself\u001b[39m\u001b[38;5;241m.\u001b[39m_request_lock:\n\u001b[0;32m     75\u001b[0m         \u001b[38;5;28;01mif\u001b[39;00m \u001b[38;5;28mself\u001b[39m\u001b[38;5;241m.\u001b[39m_connection \u001b[38;5;129;01mis\u001b[39;00m \u001b[38;5;28;01mNone\u001b[39;00m:\n",
      "File \u001b[1;32mc:\\Anaconda\\Lib\\site-packages\\httpcore\\_synchronization.py:76\u001b[0m, in \u001b[0;36mAsyncLock.__aenter__\u001b[1;34m(self)\u001b[0m\n\u001b[0;32m     75\u001b[0m \u001b[38;5;28;01melif\u001b[39;00m \u001b[38;5;28mself\u001b[39m\u001b[38;5;241m.\u001b[39m_backend \u001b[38;5;241m==\u001b[39m \u001b[38;5;124m\"\u001b[39m\u001b[38;5;124masyncio\u001b[39m\u001b[38;5;124m\"\u001b[39m:\n\u001b[1;32m---> 76\u001b[0m     \u001b[38;5;28;01mawait\u001b[39;00m \u001b[38;5;28mself\u001b[39m\u001b[38;5;241m.\u001b[39m_anyio_lock\u001b[38;5;241m.\u001b[39macquire()\n\u001b[0;32m     78\u001b[0m \u001b[38;5;28;01mreturn\u001b[39;00m \u001b[38;5;28mself\u001b[39m\n",
      "File \u001b[1;32mc:\\Anaconda\\Lib\\site-packages\\anyio\\_backends\\_asyncio.py:1754\u001b[0m, in \u001b[0;36mLock.acquire\u001b[1;34m(self)\u001b[0m\n\u001b[0;32m   1753\u001b[0m \u001b[38;5;28;01mtry\u001b[39;00m:\n\u001b[1;32m-> 1754\u001b[0m     \u001b[38;5;28;01mawait\u001b[39;00m fut\n\u001b[0;32m   1755\u001b[0m \u001b[38;5;28;01mexcept\u001b[39;00m CancelledError:\n",
      "File \u001b[1;32mc:\\Anaconda\\Lib\\asyncio\\futures.py:287\u001b[0m, in \u001b[0;36mFuture.__await__\u001b[1;34m(self)\u001b[0m\n\u001b[0;32m    286\u001b[0m     \u001b[38;5;28mself\u001b[39m\u001b[38;5;241m.\u001b[39m_asyncio_future_blocking \u001b[38;5;241m=\u001b[39m \u001b[38;5;28;01mTrue\u001b[39;00m\n\u001b[1;32m--> 287\u001b[0m     \u001b[38;5;28;01myield\u001b[39;00m \u001b[38;5;28mself\u001b[39m  \u001b[38;5;66;03m# This tells Task to wait for completion.\u001b[39;00m\n\u001b[0;32m    288\u001b[0m \u001b[38;5;28;01mif\u001b[39;00m \u001b[38;5;129;01mnot\u001b[39;00m \u001b[38;5;28mself\u001b[39m\u001b[38;5;241m.\u001b[39mdone():\n",
      "File \u001b[1;32mc:\\Anaconda\\Lib\\asyncio\\tasks.py:385\u001b[0m, in \u001b[0;36mTask.__wakeup\u001b[1;34m(self, future)\u001b[0m\n\u001b[0;32m    384\u001b[0m \u001b[38;5;28;01mtry\u001b[39;00m:\n\u001b[1;32m--> 385\u001b[0m     \u001b[43mfuture\u001b[49m\u001b[38;5;241;43m.\u001b[39;49m\u001b[43mresult\u001b[49m\u001b[43m(\u001b[49m\u001b[43m)\u001b[49m\n\u001b[0;32m    386\u001b[0m \u001b[38;5;28;01mexcept\u001b[39;00m \u001b[38;5;167;01mBaseException\u001b[39;00m \u001b[38;5;28;01mas\u001b[39;00m exc:\n\u001b[0;32m    387\u001b[0m     \u001b[38;5;66;03m# This may also be a cancellation.\u001b[39;00m\n",
      "File \u001b[1;32mc:\\Anaconda\\Lib\\asyncio\\futures.py:198\u001b[0m, in \u001b[0;36mFuture.result\u001b[1;34m(self)\u001b[0m\n\u001b[0;32m    197\u001b[0m     exc \u001b[38;5;241m=\u001b[39m \u001b[38;5;28mself\u001b[39m\u001b[38;5;241m.\u001b[39m_make_cancelled_error()\n\u001b[1;32m--> 198\u001b[0m     \u001b[38;5;28;01mraise\u001b[39;00m exc\n\u001b[0;32m    199\u001b[0m \u001b[38;5;28;01mif\u001b[39;00m \u001b[38;5;28mself\u001b[39m\u001b[38;5;241m.\u001b[39m_state \u001b[38;5;241m!=\u001b[39m _FINISHED:\n",
      "\u001b[1;31mCancelledError\u001b[0m: ",
      "\nDuring handling of the above exception, another exception occurred:\n",
      "\u001b[1;31mKeyboardInterrupt\u001b[0m                         Traceback (most recent call last)",
      "Cell \u001b[1;32mIn[6], line 32\u001b[0m\n\u001b[0;32m     29\u001b[0m     \u001b[38;5;28;01mreturn\u001b[39;00m df\n\u001b[0;32m     31\u001b[0m loop \u001b[38;5;241m=\u001b[39m asyncio\u001b[38;5;241m.\u001b[39mget_event_loop()\n\u001b[1;32m---> 32\u001b[0m df_translated \u001b[38;5;241m=\u001b[39m \u001b[43masyncio\u001b[49m\u001b[38;5;241;43m.\u001b[39;49m\u001b[43mrun\u001b[49m\u001b[43m(\u001b[49m\u001b[43mtranslate_column\u001b[49m\u001b[43m(\u001b[49m\u001b[43mdf\u001b[49m\u001b[43m,\u001b[49m\u001b[43m \u001b[49m\u001b[43mcolumn\u001b[49m\u001b[43m,\u001b[49m\u001b[43m \u001b[49m\u001b[38;5;124;43m'\u001b[39;49m\u001b[38;5;124;43mcity_en\u001b[39;49m\u001b[38;5;124;43m'\u001b[39;49m\u001b[43m)\u001b[49m\u001b[43m)\u001b[49m\n\u001b[0;32m     33\u001b[0m df_translated\u001b[38;5;241m.\u001b[39mto_csv(\u001b[38;5;124mr\u001b[39m\u001b[38;5;124m\"\u001b[39m\u001b[38;5;124m./Data/all_data_trans.csv\u001b[39m\u001b[38;5;124m\"\u001b[39m, index\u001b[38;5;241m=\u001b[39m\u001b[38;5;28;01mFalse\u001b[39;00m, encoding\u001b[38;5;241m=\u001b[39m\u001b[38;5;124m'\u001b[39m\u001b[38;5;124mutf-8\u001b[39m\u001b[38;5;124m'\u001b[39m)\n",
      "File \u001b[1;32mc:\\Anaconda\\Lib\\site-packages\\nest_asyncio.py:35\u001b[0m, in \u001b[0;36m_patch_asyncio.<locals>.run\u001b[1;34m(main, debug)\u001b[0m\n\u001b[0;32m     33\u001b[0m task\u001b[38;5;241m.\u001b[39mcancel()\n\u001b[0;32m     34\u001b[0m \u001b[38;5;28;01mwith\u001b[39;00m suppress(asyncio\u001b[38;5;241m.\u001b[39mCancelledError):\n\u001b[1;32m---> 35\u001b[0m     \u001b[43mloop\u001b[49m\u001b[38;5;241;43m.\u001b[39;49m\u001b[43mrun_until_complete\u001b[49m\u001b[43m(\u001b[49m\u001b[43mtask\u001b[49m\u001b[43m)\u001b[49m\n",
      "File \u001b[1;32mc:\\Anaconda\\Lib\\site-packages\\nest_asyncio.py:92\u001b[0m, in \u001b[0;36m_patch_loop.<locals>.run_until_complete\u001b[1;34m(self, future)\u001b[0m\n\u001b[0;32m     90\u001b[0m     f\u001b[38;5;241m.\u001b[39m_log_destroy_pending \u001b[38;5;241m=\u001b[39m \u001b[38;5;28;01mFalse\u001b[39;00m\n\u001b[0;32m     91\u001b[0m \u001b[38;5;28;01mwhile\u001b[39;00m \u001b[38;5;129;01mnot\u001b[39;00m f\u001b[38;5;241m.\u001b[39mdone():\n\u001b[1;32m---> 92\u001b[0m     \u001b[38;5;28;43mself\u001b[39;49m\u001b[38;5;241;43m.\u001b[39;49m\u001b[43m_run_once\u001b[49m\u001b[43m(\u001b[49m\u001b[43m)\u001b[49m\n\u001b[0;32m     93\u001b[0m     \u001b[38;5;28;01mif\u001b[39;00m \u001b[38;5;28mself\u001b[39m\u001b[38;5;241m.\u001b[39m_stopping:\n\u001b[0;32m     94\u001b[0m         \u001b[38;5;28;01mbreak\u001b[39;00m\n",
      "File \u001b[1;32mc:\\Anaconda\\Lib\\site-packages\\nest_asyncio.py:133\u001b[0m, in \u001b[0;36m_patch_loop.<locals>._run_once\u001b[1;34m(self)\u001b[0m\n\u001b[0;32m    130\u001b[0m curr_task \u001b[38;5;241m=\u001b[39m curr_tasks\u001b[38;5;241m.\u001b[39mpop(\u001b[38;5;28mself\u001b[39m, \u001b[38;5;28;01mNone\u001b[39;00m)\n\u001b[0;32m    132\u001b[0m \u001b[38;5;28;01mtry\u001b[39;00m:\n\u001b[1;32m--> 133\u001b[0m     \u001b[43mhandle\u001b[49m\u001b[38;5;241;43m.\u001b[39;49m\u001b[43m_run\u001b[49m\u001b[43m(\u001b[49m\u001b[43m)\u001b[49m\n\u001b[0;32m    134\u001b[0m \u001b[38;5;28;01mfinally\u001b[39;00m:\n\u001b[0;32m    135\u001b[0m     \u001b[38;5;66;03m# restore the current task\u001b[39;00m\n\u001b[0;32m    136\u001b[0m     \u001b[38;5;28;01mif\u001b[39;00m curr_task \u001b[38;5;129;01mis\u001b[39;00m \u001b[38;5;129;01mnot\u001b[39;00m \u001b[38;5;28;01mNone\u001b[39;00m:\n",
      "File \u001b[1;32mc:\\Anaconda\\Lib\\asyncio\\events.py:88\u001b[0m, in \u001b[0;36mHandle._run\u001b[1;34m(self)\u001b[0m\n\u001b[0;32m     86\u001b[0m \u001b[38;5;28;01mdef\u001b[39;00m \u001b[38;5;21m_run\u001b[39m(\u001b[38;5;28mself\u001b[39m):\n\u001b[0;32m     87\u001b[0m     \u001b[38;5;28;01mtry\u001b[39;00m:\n\u001b[1;32m---> 88\u001b[0m         \u001b[38;5;28;43mself\u001b[39;49m\u001b[38;5;241;43m.\u001b[39;49m\u001b[43m_context\u001b[49m\u001b[38;5;241;43m.\u001b[39;49m\u001b[43mrun\u001b[49m\u001b[43m(\u001b[49m\u001b[38;5;28;43mself\u001b[39;49m\u001b[38;5;241;43m.\u001b[39;49m\u001b[43m_callback\u001b[49m\u001b[43m,\u001b[49m\u001b[43m \u001b[49m\u001b[38;5;241;43m*\u001b[39;49m\u001b[38;5;28;43mself\u001b[39;49m\u001b[38;5;241;43m.\u001b[39;49m\u001b[43m_args\u001b[49m\u001b[43m)\u001b[49m\n\u001b[0;32m     89\u001b[0m     \u001b[38;5;28;01mexcept\u001b[39;00m (\u001b[38;5;167;01mSystemExit\u001b[39;00m, \u001b[38;5;167;01mKeyboardInterrupt\u001b[39;00m):\n\u001b[0;32m     90\u001b[0m         \u001b[38;5;28;01mraise\u001b[39;00m\n",
      "File \u001b[1;32mc:\\Anaconda\\Lib\\asyncio\\tasks.py:388\u001b[0m, in \u001b[0;36mTask.__wakeup\u001b[1;34m(self, future)\u001b[0m\n\u001b[0;32m    385\u001b[0m     future\u001b[38;5;241m.\u001b[39mresult()\n\u001b[0;32m    386\u001b[0m \u001b[38;5;28;01mexcept\u001b[39;00m \u001b[38;5;167;01mBaseException\u001b[39;00m \u001b[38;5;28;01mas\u001b[39;00m exc:\n\u001b[0;32m    387\u001b[0m     \u001b[38;5;66;03m# This may also be a cancellation.\u001b[39;00m\n\u001b[1;32m--> 388\u001b[0m     \u001b[38;5;28;43mself\u001b[39;49m\u001b[38;5;241;43m.\u001b[39;49m\u001b[43m__step\u001b[49m\u001b[43m(\u001b[49m\u001b[43mexc\u001b[49m\u001b[43m)\u001b[49m\n\u001b[0;32m    389\u001b[0m \u001b[38;5;28;01melse\u001b[39;00m:\n\u001b[0;32m    390\u001b[0m     \u001b[38;5;66;03m# Don't pass the value of `future.result()` explicitly,\u001b[39;00m\n\u001b[0;32m    391\u001b[0m     \u001b[38;5;66;03m# as `Future.__iter__` and `Future.__await__` don't need it.\u001b[39;00m\n\u001b[1;32m   (...)\u001b[0m\n\u001b[0;32m    394\u001b[0m     \u001b[38;5;66;03m# instead of `__next__()`, which is slower for futures\u001b[39;00m\n\u001b[0;32m    395\u001b[0m     \u001b[38;5;66;03m# that return non-generator iterators from their `__iter__`.\u001b[39;00m\n\u001b[0;32m    396\u001b[0m     \u001b[38;5;28mself\u001b[39m\u001b[38;5;241m.\u001b[39m__step()\n",
      "File \u001b[1;32mc:\\Anaconda\\Lib\\asyncio\\tasks.py:303\u001b[0m, in \u001b[0;36mTask.__step\u001b[1;34m(self, exc)\u001b[0m\n\u001b[0;32m    301\u001b[0m _enter_task(\u001b[38;5;28mself\u001b[39m\u001b[38;5;241m.\u001b[39m_loop, \u001b[38;5;28mself\u001b[39m)\n\u001b[0;32m    302\u001b[0m \u001b[38;5;28;01mtry\u001b[39;00m:\n\u001b[1;32m--> 303\u001b[0m     \u001b[38;5;28;43mself\u001b[39;49m\u001b[38;5;241;43m.\u001b[39;49m\u001b[43m__step_run_and_handle_result\u001b[49m\u001b[43m(\u001b[49m\u001b[43mexc\u001b[49m\u001b[43m)\u001b[49m\n\u001b[0;32m    304\u001b[0m \u001b[38;5;28;01mfinally\u001b[39;00m:\n\u001b[0;32m    305\u001b[0m     _leave_task(\u001b[38;5;28mself\u001b[39m\u001b[38;5;241m.\u001b[39m_loop, \u001b[38;5;28mself\u001b[39m)\n",
      "File \u001b[1;32mc:\\Anaconda\\Lib\\asyncio\\tasks.py:316\u001b[0m, in \u001b[0;36mTask.__step_run_and_handle_result\u001b[1;34m(***failed resolving arguments***)\u001b[0m\n\u001b[0;32m    314\u001b[0m         result \u001b[38;5;241m=\u001b[39m coro\u001b[38;5;241m.\u001b[39msend(\u001b[38;5;28;01mNone\u001b[39;00m)\n\u001b[0;32m    315\u001b[0m     \u001b[38;5;28;01melse\u001b[39;00m:\n\u001b[1;32m--> 316\u001b[0m         result \u001b[38;5;241m=\u001b[39m \u001b[43mcoro\u001b[49m\u001b[38;5;241;43m.\u001b[39;49m\u001b[43mthrow\u001b[49m\u001b[43m(\u001b[49m\u001b[43mexc\u001b[49m\u001b[43m)\u001b[49m\n\u001b[0;32m    317\u001b[0m \u001b[38;5;28;01mexcept\u001b[39;00m \u001b[38;5;167;01mStopIteration\u001b[39;00m \u001b[38;5;28;01mas\u001b[39;00m exc:\n\u001b[0;32m    318\u001b[0m     \u001b[38;5;28;01mif\u001b[39;00m \u001b[38;5;28mself\u001b[39m\u001b[38;5;241m.\u001b[39m_must_cancel:\n\u001b[0;32m    319\u001b[0m         \u001b[38;5;66;03m# Task is cancelled right before coro stops.\u001b[39;00m\n",
      "Cell \u001b[1;32mIn[6], line 18\u001b[0m, in \u001b[0;36mtranslate_text\u001b[1;34m(text, src, dest)\u001b[0m\n\u001b[0;32m     16\u001b[0m \u001b[38;5;28;01masync\u001b[39;00m \u001b[38;5;28;01mdef\u001b[39;00m \u001b[38;5;21mtranslate_text\u001b[39m(text, src\u001b[38;5;241m=\u001b[39m\u001b[38;5;124m'\u001b[39m\u001b[38;5;124mzh-cn\u001b[39m\u001b[38;5;124m'\u001b[39m, dest\u001b[38;5;241m=\u001b[39m\u001b[38;5;124m'\u001b[39m\u001b[38;5;124men\u001b[39m\u001b[38;5;124m'\u001b[39m):\n\u001b[0;32m     17\u001b[0m     \u001b[38;5;28;01mtry\u001b[39;00m:\n\u001b[1;32m---> 18\u001b[0m         result \u001b[38;5;241m=\u001b[39m \u001b[38;5;28;01mawait\u001b[39;00m translator\u001b[38;5;241m.\u001b[39mtranslate(text, src\u001b[38;5;241m=\u001b[39msrc, dest\u001b[38;5;241m=\u001b[39mdest)\n\u001b[0;32m     19\u001b[0m         \u001b[38;5;28;01mreturn\u001b[39;00m result\u001b[38;5;241m.\u001b[39mtext\n\u001b[0;32m     20\u001b[0m     \u001b[38;5;28;01mexcept\u001b[39;00m \u001b[38;5;167;01mException\u001b[39;00m \u001b[38;5;28;01mas\u001b[39;00m e:\n",
      "File \u001b[1;32mc:\\Anaconda\\Lib\\site-packages\\googletrans\\client.py:286\u001b[0m, in \u001b[0;36mTranslator.translate\u001b[1;34m(self, text, dest, src, **kwargs)\u001b[0m\n\u001b[0;32m    283\u001b[0m     \u001b[38;5;28;01mreturn\u001b[39;00m result\n\u001b[0;32m    285\u001b[0m origin \u001b[38;5;241m=\u001b[39m text\n\u001b[1;32m--> 286\u001b[0m data, response \u001b[38;5;241m=\u001b[39m \u001b[38;5;28;01mawait\u001b[39;00m \u001b[38;5;28mself\u001b[39m\u001b[38;5;241m.\u001b[39m_translate(text, dest, src, kwargs)\n\u001b[0;32m    288\u001b[0m \u001b[38;5;66;03m# this code will be updated when the format is changed.\u001b[39;00m\n\u001b[0;32m    289\u001b[0m translated \u001b[38;5;241m=\u001b[39m \u001b[38;5;124m\"\u001b[39m\u001b[38;5;124m\"\u001b[39m\u001b[38;5;241m.\u001b[39mjoin([d[\u001b[38;5;241m0\u001b[39m] \u001b[38;5;28;01mif\u001b[39;00m d[\u001b[38;5;241m0\u001b[39m] \u001b[38;5;28;01melse\u001b[39;00m \u001b[38;5;124m\"\u001b[39m\u001b[38;5;124m\"\u001b[39m \u001b[38;5;28;01mfor\u001b[39;00m d \u001b[38;5;129;01min\u001b[39;00m data[\u001b[38;5;241m0\u001b[39m]])\n",
      "File \u001b[1;32mc:\\Anaconda\\Lib\\site-packages\\googletrans\\client.py:128\u001b[0m, in \u001b[0;36mTranslator._translate\u001b[1;34m(self, text, dest, src, override)\u001b[0m\n\u001b[0;32m    118\u001b[0m params \u001b[38;5;241m=\u001b[39m utils\u001b[38;5;241m.\u001b[39mbuild_params(\n\u001b[0;32m    119\u001b[0m     client\u001b[38;5;241m=\u001b[39m\u001b[38;5;28mself\u001b[39m\u001b[38;5;241m.\u001b[39mclient_type,\n\u001b[0;32m    120\u001b[0m     query\u001b[38;5;241m=\u001b[39mtext,\n\u001b[1;32m   (...)\u001b[0m\n\u001b[0;32m    124\u001b[0m     override\u001b[38;5;241m=\u001b[39moverride,\n\u001b[0;32m    125\u001b[0m )\n\u001b[0;32m    127\u001b[0m url \u001b[38;5;241m=\u001b[39m urls\u001b[38;5;241m.\u001b[39mTRANSLATE\u001b[38;5;241m.\u001b[39mformat(host\u001b[38;5;241m=\u001b[39m\u001b[38;5;28mself\u001b[39m\u001b[38;5;241m.\u001b[39m_pick_service_url())\n\u001b[1;32m--> 128\u001b[0m r \u001b[38;5;241m=\u001b[39m \u001b[38;5;28;01mawait\u001b[39;00m \u001b[38;5;28mself\u001b[39m\u001b[38;5;241m.\u001b[39mclient\u001b[38;5;241m.\u001b[39mget(url, params\u001b[38;5;241m=\u001b[39mparams)\n\u001b[0;32m    130\u001b[0m \u001b[38;5;28;01mif\u001b[39;00m r\u001b[38;5;241m.\u001b[39mstatus_code \u001b[38;5;241m==\u001b[39m \u001b[38;5;241m200\u001b[39m:\n\u001b[0;32m    131\u001b[0m     data \u001b[38;5;241m=\u001b[39m utils\u001b[38;5;241m.\u001b[39mformat_json(r\u001b[38;5;241m.\u001b[39mtext)\n",
      "File \u001b[1;32mc:\\Anaconda\\Lib\\site-packages\\httpx\\_client.py:1814\u001b[0m, in \u001b[0;36mAsyncClient.get\u001b[1;34m(self, url, params, headers, cookies, auth, follow_redirects, timeout, extensions)\u001b[0m\n\u001b[0;32m   1797\u001b[0m \u001b[38;5;28;01masync\u001b[39;00m \u001b[38;5;28;01mdef\u001b[39;00m \u001b[38;5;21mget\u001b[39m(\n\u001b[0;32m   1798\u001b[0m     \u001b[38;5;28mself\u001b[39m,\n\u001b[0;32m   1799\u001b[0m     url: URL \u001b[38;5;241m|\u001b[39m \u001b[38;5;28mstr\u001b[39m,\n\u001b[1;32m   (...)\u001b[0m\n\u001b[0;32m   1807\u001b[0m     extensions: RequestExtensions \u001b[38;5;241m|\u001b[39m \u001b[38;5;28;01mNone\u001b[39;00m \u001b[38;5;241m=\u001b[39m \u001b[38;5;28;01mNone\u001b[39;00m,\n\u001b[0;32m   1808\u001b[0m ) \u001b[38;5;241m-\u001b[39m\u001b[38;5;241m>\u001b[39m Response:\n\u001b[0;32m   1809\u001b[0m \u001b[38;5;250m    \u001b[39m\u001b[38;5;124;03m\"\"\"\u001b[39;00m\n\u001b[0;32m   1810\u001b[0m \u001b[38;5;124;03m    Send a `GET` request.\u001b[39;00m\n\u001b[0;32m   1811\u001b[0m \n\u001b[0;32m   1812\u001b[0m \u001b[38;5;124;03m    **Parameters**: See `httpx.request`.\u001b[39;00m\n\u001b[0;32m   1813\u001b[0m \u001b[38;5;124;03m    \"\"\"\u001b[39;00m\n\u001b[1;32m-> 1814\u001b[0m     \u001b[38;5;28;01mreturn\u001b[39;00m \u001b[38;5;28;01mawait\u001b[39;00m \u001b[38;5;28mself\u001b[39m\u001b[38;5;241m.\u001b[39mrequest(\n\u001b[0;32m   1815\u001b[0m         \u001b[38;5;124m\"\u001b[39m\u001b[38;5;124mGET\u001b[39m\u001b[38;5;124m\"\u001b[39m,\n\u001b[0;32m   1816\u001b[0m         url,\n\u001b[0;32m   1817\u001b[0m         params\u001b[38;5;241m=\u001b[39mparams,\n\u001b[0;32m   1818\u001b[0m         headers\u001b[38;5;241m=\u001b[39mheaders,\n\u001b[0;32m   1819\u001b[0m         cookies\u001b[38;5;241m=\u001b[39mcookies,\n\u001b[0;32m   1820\u001b[0m         auth\u001b[38;5;241m=\u001b[39mauth,\n\u001b[0;32m   1821\u001b[0m         follow_redirects\u001b[38;5;241m=\u001b[39mfollow_redirects,\n\u001b[0;32m   1822\u001b[0m         timeout\u001b[38;5;241m=\u001b[39mtimeout,\n\u001b[0;32m   1823\u001b[0m         extensions\u001b[38;5;241m=\u001b[39mextensions,\n\u001b[0;32m   1824\u001b[0m     )\n",
      "File \u001b[1;32mc:\\Anaconda\\Lib\\site-packages\\httpx\\_client.py:1585\u001b[0m, in \u001b[0;36mAsyncClient.request\u001b[1;34m(self, method, url, content, data, files, json, params, headers, cookies, auth, follow_redirects, timeout, extensions)\u001b[0m\n\u001b[0;32m   1570\u001b[0m     warnings\u001b[38;5;241m.\u001b[39mwarn(message, \u001b[38;5;167;01mDeprecationWarning\u001b[39;00m)\n\u001b[0;32m   1572\u001b[0m request \u001b[38;5;241m=\u001b[39m \u001b[38;5;28mself\u001b[39m\u001b[38;5;241m.\u001b[39mbuild_request(\n\u001b[0;32m   1573\u001b[0m     method\u001b[38;5;241m=\u001b[39mmethod,\n\u001b[0;32m   1574\u001b[0m     url\u001b[38;5;241m=\u001b[39murl,\n\u001b[1;32m   (...)\u001b[0m\n\u001b[0;32m   1583\u001b[0m     extensions\u001b[38;5;241m=\u001b[39mextensions,\n\u001b[0;32m   1584\u001b[0m )\n\u001b[1;32m-> 1585\u001b[0m \u001b[38;5;28;01mreturn\u001b[39;00m \u001b[38;5;28;01mawait\u001b[39;00m \u001b[38;5;28mself\u001b[39m\u001b[38;5;241m.\u001b[39msend(request, auth\u001b[38;5;241m=\u001b[39mauth, follow_redirects\u001b[38;5;241m=\u001b[39mfollow_redirects)\n",
      "File \u001b[1;32mc:\\Anaconda\\Lib\\site-packages\\httpx\\_client.py:1674\u001b[0m, in \u001b[0;36mAsyncClient.send\u001b[1;34m(self, request, stream, auth, follow_redirects)\u001b[0m\n\u001b[0;32m   1670\u001b[0m \u001b[38;5;28mself\u001b[39m\u001b[38;5;241m.\u001b[39m_set_timeout(request)\n\u001b[0;32m   1672\u001b[0m auth \u001b[38;5;241m=\u001b[39m \u001b[38;5;28mself\u001b[39m\u001b[38;5;241m.\u001b[39m_build_request_auth(request, auth)\n\u001b[1;32m-> 1674\u001b[0m response \u001b[38;5;241m=\u001b[39m \u001b[38;5;28;01mawait\u001b[39;00m \u001b[38;5;28mself\u001b[39m\u001b[38;5;241m.\u001b[39m_send_handling_auth(\n\u001b[0;32m   1675\u001b[0m     request,\n\u001b[0;32m   1676\u001b[0m     auth\u001b[38;5;241m=\u001b[39mauth,\n\u001b[0;32m   1677\u001b[0m     follow_redirects\u001b[38;5;241m=\u001b[39mfollow_redirects,\n\u001b[0;32m   1678\u001b[0m     history\u001b[38;5;241m=\u001b[39m[],\n\u001b[0;32m   1679\u001b[0m )\n\u001b[0;32m   1680\u001b[0m \u001b[38;5;28;01mtry\u001b[39;00m:\n\u001b[0;32m   1681\u001b[0m     \u001b[38;5;28;01mif\u001b[39;00m \u001b[38;5;129;01mnot\u001b[39;00m stream:\n",
      "File \u001b[1;32mc:\\Anaconda\\Lib\\site-packages\\httpx\\_client.py:1702\u001b[0m, in \u001b[0;36mAsyncClient._send_handling_auth\u001b[1;34m(self, request, auth, follow_redirects, history)\u001b[0m\n\u001b[0;32m   1699\u001b[0m request \u001b[38;5;241m=\u001b[39m \u001b[38;5;28;01mawait\u001b[39;00m auth_flow\u001b[38;5;241m.\u001b[39m\u001b[38;5;21m__anext__\u001b[39m()\n\u001b[0;32m   1701\u001b[0m \u001b[38;5;28;01mwhile\u001b[39;00m \u001b[38;5;28;01mTrue\u001b[39;00m:\n\u001b[1;32m-> 1702\u001b[0m     response \u001b[38;5;241m=\u001b[39m \u001b[38;5;28;01mawait\u001b[39;00m \u001b[38;5;28mself\u001b[39m\u001b[38;5;241m.\u001b[39m_send_handling_redirects(\n\u001b[0;32m   1703\u001b[0m         request,\n\u001b[0;32m   1704\u001b[0m         follow_redirects\u001b[38;5;241m=\u001b[39mfollow_redirects,\n\u001b[0;32m   1705\u001b[0m         history\u001b[38;5;241m=\u001b[39mhistory,\n\u001b[0;32m   1706\u001b[0m     )\n\u001b[0;32m   1707\u001b[0m     \u001b[38;5;28;01mtry\u001b[39;00m:\n\u001b[0;32m   1708\u001b[0m         \u001b[38;5;28;01mtry\u001b[39;00m:\n",
      "File \u001b[1;32mc:\\Anaconda\\Lib\\site-packages\\httpx\\_client.py:1739\u001b[0m, in \u001b[0;36mAsyncClient._send_handling_redirects\u001b[1;34m(self, request, follow_redirects, history)\u001b[0m\n\u001b[0;32m   1736\u001b[0m \u001b[38;5;28;01mfor\u001b[39;00m hook \u001b[38;5;129;01min\u001b[39;00m \u001b[38;5;28mself\u001b[39m\u001b[38;5;241m.\u001b[39m_event_hooks[\u001b[38;5;124m\"\u001b[39m\u001b[38;5;124mrequest\u001b[39m\u001b[38;5;124m\"\u001b[39m]:\n\u001b[0;32m   1737\u001b[0m     \u001b[38;5;28;01mawait\u001b[39;00m hook(request)\n\u001b[1;32m-> 1739\u001b[0m response \u001b[38;5;241m=\u001b[39m \u001b[38;5;28;01mawait\u001b[39;00m \u001b[38;5;28mself\u001b[39m\u001b[38;5;241m.\u001b[39m_send_single_request(request)\n\u001b[0;32m   1740\u001b[0m \u001b[38;5;28;01mtry\u001b[39;00m:\n\u001b[0;32m   1741\u001b[0m     \u001b[38;5;28;01mfor\u001b[39;00m hook \u001b[38;5;129;01min\u001b[39;00m \u001b[38;5;28mself\u001b[39m\u001b[38;5;241m.\u001b[39m_event_hooks[\u001b[38;5;124m\"\u001b[39m\u001b[38;5;124mresponse\u001b[39m\u001b[38;5;124m\"\u001b[39m]:\n",
      "File \u001b[1;32mc:\\Anaconda\\Lib\\site-packages\\httpx\\_client.py:1776\u001b[0m, in \u001b[0;36mAsyncClient._send_single_request\u001b[1;34m(self, request)\u001b[0m\n\u001b[0;32m   1771\u001b[0m     \u001b[38;5;28;01mraise\u001b[39;00m \u001b[38;5;167;01mRuntimeError\u001b[39;00m(\n\u001b[0;32m   1772\u001b[0m         \u001b[38;5;124m\"\u001b[39m\u001b[38;5;124mAttempted to send an sync request with an AsyncClient instance.\u001b[39m\u001b[38;5;124m\"\u001b[39m\n\u001b[0;32m   1773\u001b[0m     )\n\u001b[0;32m   1775\u001b[0m \u001b[38;5;28;01mwith\u001b[39;00m request_context(request\u001b[38;5;241m=\u001b[39mrequest):\n\u001b[1;32m-> 1776\u001b[0m     response \u001b[38;5;241m=\u001b[39m \u001b[38;5;28;01mawait\u001b[39;00m transport\u001b[38;5;241m.\u001b[39mhandle_async_request(request)\n\u001b[0;32m   1778\u001b[0m \u001b[38;5;28;01massert\u001b[39;00m \u001b[38;5;28misinstance\u001b[39m(response\u001b[38;5;241m.\u001b[39mstream, AsyncByteStream)\n\u001b[0;32m   1779\u001b[0m response\u001b[38;5;241m.\u001b[39mrequest \u001b[38;5;241m=\u001b[39m request\n",
      "File \u001b[1;32mc:\\Anaconda\\Lib\\site-packages\\httpx\\_transports\\default.py:377\u001b[0m, in \u001b[0;36mAsyncHTTPTransport.handle_async_request\u001b[1;34m(self, request)\u001b[0m\n\u001b[0;32m    364\u001b[0m req \u001b[38;5;241m=\u001b[39m httpcore\u001b[38;5;241m.\u001b[39mRequest(\n\u001b[0;32m    365\u001b[0m     method\u001b[38;5;241m=\u001b[39mrequest\u001b[38;5;241m.\u001b[39mmethod,\n\u001b[0;32m    366\u001b[0m     url\u001b[38;5;241m=\u001b[39mhttpcore\u001b[38;5;241m.\u001b[39mURL(\n\u001b[1;32m   (...)\u001b[0m\n\u001b[0;32m    374\u001b[0m     extensions\u001b[38;5;241m=\u001b[39mrequest\u001b[38;5;241m.\u001b[39mextensions,\n\u001b[0;32m    375\u001b[0m )\n\u001b[0;32m    376\u001b[0m \u001b[38;5;28;01mwith\u001b[39;00m map_httpcore_exceptions():\n\u001b[1;32m--> 377\u001b[0m     resp \u001b[38;5;241m=\u001b[39m \u001b[38;5;28;01mawait\u001b[39;00m \u001b[38;5;28mself\u001b[39m\u001b[38;5;241m.\u001b[39m_pool\u001b[38;5;241m.\u001b[39mhandle_async_request(req)\n\u001b[0;32m    379\u001b[0m \u001b[38;5;28;01massert\u001b[39;00m \u001b[38;5;28misinstance\u001b[39m(resp\u001b[38;5;241m.\u001b[39mstream, typing\u001b[38;5;241m.\u001b[39mAsyncIterable)\n\u001b[0;32m    381\u001b[0m \u001b[38;5;28;01mreturn\u001b[39;00m Response(\n\u001b[0;32m    382\u001b[0m     status_code\u001b[38;5;241m=\u001b[39mresp\u001b[38;5;241m.\u001b[39mstatus,\n\u001b[0;32m    383\u001b[0m     headers\u001b[38;5;241m=\u001b[39mresp\u001b[38;5;241m.\u001b[39mheaders,\n\u001b[0;32m    384\u001b[0m     stream\u001b[38;5;241m=\u001b[39mAsyncResponseStream(resp\u001b[38;5;241m.\u001b[39mstream),\n\u001b[0;32m    385\u001b[0m     extensions\u001b[38;5;241m=\u001b[39mresp\u001b[38;5;241m.\u001b[39mextensions,\n\u001b[0;32m    386\u001b[0m )\n",
      "File \u001b[1;32mc:\\Anaconda\\Lib\\site-packages\\httpcore\\_async\\connection_pool.py:213\u001b[0m, in \u001b[0;36mAsyncConnectionPool.handle_async_request\u001b[1;34m(self, request)\u001b[0m\n\u001b[0;32m    209\u001b[0m \u001b[38;5;28;01mwith\u001b[39;00m \u001b[38;5;28mself\u001b[39m\u001b[38;5;241m.\u001b[39m_optional_thread_lock:\n\u001b[0;32m    210\u001b[0m     \u001b[38;5;66;03m# For any exception or cancellation we remove the request from\u001b[39;00m\n\u001b[0;32m    211\u001b[0m     \u001b[38;5;66;03m# the queue, and then re-assign requests to connections.\u001b[39;00m\n\u001b[0;32m    212\u001b[0m     \u001b[38;5;28mself\u001b[39m\u001b[38;5;241m.\u001b[39m_requests\u001b[38;5;241m.\u001b[39mremove(pool_request)\n\u001b[1;32m--> 213\u001b[0m     closing \u001b[38;5;241m=\u001b[39m \u001b[38;5;28;43mself\u001b[39;49m\u001b[38;5;241;43m.\u001b[39;49m\u001b[43m_assign_requests_to_connections\u001b[49m\u001b[43m(\u001b[49m\u001b[43m)\u001b[49m\n\u001b[0;32m    215\u001b[0m \u001b[38;5;28;01mawait\u001b[39;00m \u001b[38;5;28mself\u001b[39m\u001b[38;5;241m.\u001b[39m_close_connections(closing)\n\u001b[0;32m    216\u001b[0m \u001b[38;5;28;01mraise\u001b[39;00m exc \u001b[38;5;28;01mfrom\u001b[39;00m \u001b[38;5;28;01mNone\u001b[39;00m\n",
      "File \u001b[1;32mc:\\Anaconda\\Lib\\site-packages\\httpcore\\_async\\connection_pool.py:262\u001b[0m, in \u001b[0;36mAsyncConnectionPool._assign_requests_to_connections\u001b[1;34m(self)\u001b[0m\n\u001b[0;32m    259\u001b[0m         closing_connections\u001b[38;5;241m.\u001b[39mappend(connection)\n\u001b[0;32m    261\u001b[0m \u001b[38;5;66;03m# Assign queued requests to connections.\u001b[39;00m\n\u001b[1;32m--> 262\u001b[0m queued_requests \u001b[38;5;241m=\u001b[39m [request \u001b[38;5;28;01mfor\u001b[39;00m request \u001b[38;5;129;01min\u001b[39;00m \u001b[38;5;28mself\u001b[39m\u001b[38;5;241m.\u001b[39m_requests \u001b[38;5;28;01mif\u001b[39;00m \u001b[43mrequest\u001b[49m\u001b[38;5;241;43m.\u001b[39;49m\u001b[43mis_queued\u001b[49m\u001b[43m(\u001b[49m\u001b[43m)\u001b[49m]\n\u001b[0;32m    263\u001b[0m \u001b[38;5;28;01mfor\u001b[39;00m pool_request \u001b[38;5;129;01min\u001b[39;00m queued_requests:\n\u001b[0;32m    264\u001b[0m     origin \u001b[38;5;241m=\u001b[39m pool_request\u001b[38;5;241m.\u001b[39mrequest\u001b[38;5;241m.\u001b[39murl\u001b[38;5;241m.\u001b[39morigin\n",
      "File \u001b[1;32mc:\\Anaconda\\Lib\\site-packages\\httpcore\\_async\\connection_pool.py:39\u001b[0m, in \u001b[0;36mAsyncPoolRequest.is_queued\u001b[1;34m(self)\u001b[0m\n\u001b[0;32m     36\u001b[0m     \u001b[38;5;28;01massert\u001b[39;00m \u001b[38;5;28mself\u001b[39m\u001b[38;5;241m.\u001b[39mconnection \u001b[38;5;129;01mis\u001b[39;00m \u001b[38;5;129;01mnot\u001b[39;00m \u001b[38;5;28;01mNone\u001b[39;00m\n\u001b[0;32m     37\u001b[0m     \u001b[38;5;28;01mreturn\u001b[39;00m \u001b[38;5;28mself\u001b[39m\u001b[38;5;241m.\u001b[39mconnection\n\u001b[1;32m---> 39\u001b[0m \u001b[38;5;28;01mdef\u001b[39;00m \u001b[38;5;21mis_queued\u001b[39m(\u001b[38;5;28mself\u001b[39m) \u001b[38;5;241m-\u001b[39m\u001b[38;5;241m>\u001b[39m \u001b[38;5;28mbool\u001b[39m:\n\u001b[0;32m     40\u001b[0m     \u001b[38;5;28;01mreturn\u001b[39;00m \u001b[38;5;28mself\u001b[39m\u001b[38;5;241m.\u001b[39mconnection \u001b[38;5;129;01mis\u001b[39;00m \u001b[38;5;28;01mNone\u001b[39;00m\n",
      "\u001b[1;31mKeyboardInterrupt\u001b[0m: "
     ]
    },
    {
     "name": "stderr",
     "output_type": "stream",
     "text": [
      "Task exception was never retrieved\n",
      "future: <Task finished name='Task-1' coro=<translate_column() done, defined at C:\\Users\\lzk77\\AppData\\Local\\Temp\\ipykernel_2232\\3013096095.py:25> exception=KeyboardInterrupt()>\n",
      "Traceback (most recent call last):\n",
      "  File \"c:\\Anaconda\\Lib\\site-packages\\IPython\\core\\interactiveshell.py\", line 3577, in run_code\n",
      "    exec(code_obj, self.user_global_ns, self.user_ns)\n",
      "  File \"C:\\Users\\lzk77\\AppData\\Local\\Temp\\ipykernel_2232\\3013096095.py\", line 32, in <module>\n",
      "    df_translated = asyncio.run(translate_column(df, column, column))\n",
      "                    ^^^^^^^^^^^^^^^^^^^^^^^^^^^^^^^^^^^^^^^^^^^^^^^^^\n",
      "  File \"c:\\Anaconda\\Lib\\site-packages\\nest_asyncio.py\", line 35, in run\n",
      "    loop.run_until_complete(task)\n",
      "  File \"c:\\Anaconda\\Lib\\site-packages\\nest_asyncio.py\", line 92, in run_until_complete\n",
      "    self._run_once()\n",
      "  File \"c:\\Anaconda\\Lib\\site-packages\\nest_asyncio.py\", line 133, in _run_once\n",
      "    handle._run()\n",
      "  File \"c:\\Anaconda\\Lib\\asyncio\\events.py\", line 88, in _run\n",
      "    self._context.run(self._callback, *self._args)\n",
      "  File \"c:\\Anaconda\\Lib\\asyncio\\tasks.py\", line 388, in __wakeup\n",
      "    self.__step(exc)\n",
      "  File \"c:\\Anaconda\\Lib\\asyncio\\tasks.py\", line 303, in __step\n",
      "    self.__step_run_and_handle_result(exc)\n",
      "  File \"c:\\Anaconda\\Lib\\asyncio\\tasks.py\", line 316, in __step_run_and_handle_result\n",
      "    result = coro.throw(exc)\n",
      "             ^^^^^^^^^^^^^^^\n",
      "  File \"C:\\Users\\lzk77\\AppData\\Local\\Temp\\ipykernel_2232\\3013096095.py\", line 27, in translate_column\n",
      "    results = await asyncio.gather(*tasks)\n",
      "              ^^^^^^^^^^^^^^^^^^^^^^^^^^^^\n",
      "  File \"c:\\Anaconda\\Lib\\asyncio\\tasks.py\", line 385, in __wakeup\n",
      "    future.result()\n",
      "  File \"c:\\Anaconda\\Lib\\site-packages\\nest_asyncio.py\", line 30, in run\n",
      "    return loop.run_until_complete(task)\n",
      "           ^^^^^^^^^^^^^^^^^^^^^^^^^^^^^\n",
      "  File \"c:\\Anaconda\\Lib\\site-packages\\nest_asyncio.py\", line 92, in run_until_complete\n",
      "    self._run_once()\n",
      "  File \"c:\\Anaconda\\Lib\\site-packages\\nest_asyncio.py\", line 133, in _run_once\n",
      "    handle._run()\n",
      "  File \"c:\\Anaconda\\Lib\\asyncio\\events.py\", line 88, in _run\n",
      "    self._context.run(self._callback, *self._args)\n",
      "  File \"c:\\Anaconda\\Lib\\asyncio\\tasks.py\", line 303, in __step\n",
      "    self.__step_run_and_handle_result(exc)\n",
      "  File \"c:\\Anaconda\\Lib\\asyncio\\tasks.py\", line 314, in __step_run_and_handle_result\n",
      "    result = coro.send(None)\n",
      "             ^^^^^^^^^^^^^^^\n",
      "  File \"C:\\Users\\lzk77\\AppData\\Local\\Temp\\ipykernel_2232\\3013096095.py\", line 18, in translate_text\n",
      "    result = await translator.translate(text, src=src, dest=dest)\n",
      "             ^^^^^^^^^^^^^^^^^^^^^^^^^^^^^^^^^^^^^^^^^^^^^^^^^^^^\n",
      "  File \"c:\\Anaconda\\Lib\\site-packages\\googletrans\\client.py\", line 286, in translate\n",
      "    data, response = await self._translate(text, dest, src, kwargs)\n",
      "                     ^^^^^^^^^^^^^^^^^^^^^^^^^^^^^^^^^^^^^^^^^^^^^^\n",
      "  File \"c:\\Anaconda\\Lib\\site-packages\\googletrans\\client.py\", line 128, in _translate\n",
      "    r = await self.client.get(url, params=params)\n",
      "        ^^^^^^^^^^^^^^^^^^^^^^^^^^^^^^^^^^^^^^^^^\n",
      "  File \"c:\\Anaconda\\Lib\\site-packages\\httpx\\_client.py\", line 1814, in get\n",
      "    return await self.request(\n",
      "           ^^^^^^^^^^^^^^^^^^^\n",
      "  File \"c:\\Anaconda\\Lib\\site-packages\\httpx\\_client.py\", line 1585, in request\n",
      "    return await self.send(request, auth=auth, follow_redirects=follow_redirects)\n",
      "           ^^^^^^^^^^^^^^^^^^^^^^^^^^^^^^^^^^^^^^^^^^^^^^^^^^^^^^^^^^^^^^^^^^^^^^\n",
      "  File \"c:\\Anaconda\\Lib\\site-packages\\httpx\\_client.py\", line 1674, in send\n",
      "    response = await self._send_handling_auth(\n",
      "               ^^^^^^^^^^^^^^^^^^^^^^^^^^^^^^^\n",
      "  File \"c:\\Anaconda\\Lib\\site-packages\\httpx\\_client.py\", line 1702, in _send_handling_auth\n",
      "    response = await self._send_handling_redirects(\n",
      "               ^^^^^^^^^^^^^^^^^^^^^^^^^^^^^^^^^^^^\n",
      "  File \"c:\\Anaconda\\Lib\\site-packages\\httpx\\_client.py\", line 1739, in _send_handling_redirects\n",
      "    response = await self._send_single_request(request)\n",
      "               ^^^^^^^^^^^^^^^^^^^^^^^^^^^^^^^^^^^^^^^^\n",
      "  File \"c:\\Anaconda\\Lib\\site-packages\\httpx\\_client.py\", line 1776, in _send_single_request\n",
      "    response = await transport.handle_async_request(request)\n",
      "               ^^^^^^^^^^^^^^^^^^^^^^^^^^^^^^^^^^^^^^^^^^^^^\n",
      "  File \"c:\\Anaconda\\Lib\\site-packages\\httpx\\_transports\\default.py\", line 377, in handle_async_request\n",
      "    resp = await self._pool.handle_async_request(req)\n",
      "           ^^^^^^^^^^^^^^^^^^^^^^^^^^^^^^^^^^^^^^^^^^\n",
      "  File \"c:\\Anaconda\\Lib\\site-packages\\httpcore\\_async\\connection_pool.py\", line 216, in handle_async_request\n",
      "    raise exc from None\n",
      "  File \"c:\\Anaconda\\Lib\\site-packages\\httpcore\\_async\\connection_pool.py\", line 188, in handle_async_request\n",
      "    closing = self._assign_requests_to_connections()\n",
      "              ^^^^^^^^^^^^^^^^^^^^^^^^^^^^^^^^^^^^^^\n",
      "  File \"c:\\Anaconda\\Lib\\site-packages\\httpcore\\_async\\connection_pool.py\", line 262, in _assign_requests_to_connections\n",
      "    queued_requests = [request for request in self._requests if request.is_queued()]\n",
      "                                                                ^^^^^^^^^^^^^^^^^^^\n",
      "KeyboardInterrupt\n"
     ]
    },
    {
     "ename": "",
     "evalue": "",
     "output_type": "error",
     "traceback": [
      "\u001b[1;31m在当前单元格或上一个单元格中执行代码时 Kernel 崩溃。\n",
      "\u001b[1;31m请查看单元格中的代码，以确定故障的可能原因。\n",
      "\u001b[1;31m单击<a href='https://aka.ms/vscodeJupyterKernelCrash'>此处</a>了解详细信息。\n",
      "\u001b[1;31m有关更多详细信息，请查看 Jupyter <a href='command:jupyter.viewOutput'>log</a>。"
     ]
    }
   ],
   "source": [
    "import pandas as pd\n",
    "import asyncio\n",
    "import nest_asyncio\n",
    "from googletrans import Translator\n",
    "from tqdm import tqdm\n",
    "from glob import glob\n",
    "from pathlib import Path\n",
    "nest_asyncio.apply()\n",
    "\n",
    "translator = Translator()\n",
    "csv = r\"./Data/all_data.csv\"\n",
    "df = pd.read_csv(csv)\n",
    "column = 'city'\n",
    "\n",
    "# 异步翻译函数\n",
    "async def translate_text(text, src='zh-cn', dest='en'):\n",
    "    try:\n",
    "        result = await translator.translate(text, src=src, dest=dest)\n",
    "        return result.text\n",
    "    except Exception as e:\n",
    "        print(f\"翻译失败: {text}，错误：{e}\")\n",
    "        return None\n",
    "\n",
    "# 主异步函数，处理整个 DataFrame 的翻译\n",
    "async def translate_column(df, column_name, new_column_name):\n",
    "    tasks = [translate_text(row[column_name]) for _, row in df.iterrows()]\n",
    "    results = await asyncio.gather(*tasks)\n",
    "    df[new_column_name] = results\n",
    "    return df\n",
    "\n",
    "loop = asyncio.get_event_loop()\n",
    "df_translated = asyncio.run(translate_column(df, column, 'city_en'))\n",
    "df_translated.to_csv(r\"./Data/all_data_trans.csv\", index=False, encoding='utf-8')\n"
   ]
  }
 ],
 "metadata": {
  "kernelspec": {
   "display_name": "base",
   "language": "python",
   "name": "python3"
  },
  "language_info": {
   "codemirror_mode": {
    "name": "ipython",
    "version": 3
   },
   "file_extension": ".py",
   "mimetype": "text/x-python",
   "name": "python",
   "nbconvert_exporter": "python",
   "pygments_lexer": "ipython3",
   "version": "3.12.3"
  }
 },
 "nbformat": 4,
 "nbformat_minor": 5
}
